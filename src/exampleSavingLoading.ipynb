{
 "cells": [
  {
   "cell_type": "markdown",
   "metadata": {},
   "source": [
    "# SMM Parallel\n",
    "This notebook shows how to save an optimization to disk, load it, and restart the algorithm n addional steps."
   ]
  },
  {
   "cell_type": "markdown",
   "metadata": {},
   "source": [
    "## Preliminaries"
   ]
  },
  {
   "cell_type": "code",
   "execution_count": 4,
   "metadata": {},
   "outputs": [
    {
     "data": {
      "text/plain": [
       "DataStructures.OrderedDict{String,Array{Float64,1}} with 2 entries:\n",
       "  \"mu1\" => [-1.0]\n",
       "  \"mu2\" => [1.0]"
      ]
     },
     "execution_count": 4,
     "metadata": {},
     "output_type": "execute_result"
    },
    {
     "name": "stderr",
     "output_type": "stream",
     "text": [
      "WARNING: using Plots.GR in module Main conflicts with an existing identifier.\n"
     ]
    }
   ],
   "source": [
    "using SMM\n",
    "using DataStructures\n",
    "using DataFrames\n",
    "using Plots\n",
    "\n",
    "srand(1234);\n",
    "\n",
    "# Define true values of parameters\n",
    "#---------------------------------\n",
    "trueValues = OrderedDict(\"mu1\" => [-1.0], \"mu2\" => [1.0])\n"
   ]
  },
  {
   "cell_type": "markdown",
   "metadata": {},
   "source": [
    "## Set up a SMM problem"
   ]
  },
  {
   "cell_type": "code",
   "execution_count": 9,
   "metadata": {
    "scrolled": true
   },
   "outputs": [
    {
     "data": {
      "text/plain": [
       "objfunc_normal (generic function with 1 method)"
      ]
     },
     "execution_count": 9,
     "metadata": {},
     "output_type": "execute_result"
    }
   ],
   "source": [
    "#------------------------------------------------\n",
    "# Options\n",
    "#-------------------------------------------------\n",
    "# Boolean: do you want to save the plots to disk?\n",
    "savePlots = false\n",
    "\n",
    "#------------------------\n",
    "# initialize the problem:\n",
    "#------------------------\n",
    "\n",
    "# Specify the initial values for the parameters, and their support:\n",
    "pb = OrderedDict(\"p1\" => [0.2,-3,3] , \"p2\" => [-0.2,-2,2])\n",
    "\n",
    "# Specify moments to be matched + subjective weights:\n",
    "moms = DataFrame(name=[\"mu1\",\"mu2\"],value=[trueValues[\"mu1\"][], trueValues[\"mu2\"][]], weight=ones(2))\n",
    "\n",
    "# GMM objective function to be minized.\n",
    "# It returns a weigthed distance between empirical and simulated moments\n",
    "@everywhere function objfunc_normal(ev::Eval; verbose = false)\n",
    "\n",
    "    start(ev)\n",
    "\n",
    "\n",
    "    # when running in parallel, display worker's id:\n",
    "    #-----------------------------------------------\n",
    "    if verbose == true\n",
    "        if nprocs() > 1\n",
    "          println(myid())\n",
    "        end\n",
    "    end\n",
    "\n",
    "    # extract parameters from ev:\n",
    "    #----------------------------\n",
    "    mu  = collect(values(ev.params))\n",
    "\n",
    "    # compute simulated moments\n",
    "    #--------------------------\n",
    "    # Monte-Carlo:\n",
    "    #-------------\n",
    "    ns = 100000 #number of i.i.d draws from N([mu], sigma)\n",
    "    #initialize a multivariate normal N([mu], sigma)\n",
    "    #sigma is set to be the identity matrix\n",
    "    sigma = [1.0; 1.0]\n",
    "    # draw ns observations from N([mu], sigma):\n",
    "    randMultiNormal = SMM.MvNormal(mu,SMM.PDiagMat(sigma))\n",
    "    # calculate the mean of the simulated data\n",
    "    # let's \"freeze\" the random number generated between each draw of parameters\n",
    "    srand(1234)\n",
    "    simM            = mean(rand(randMultiNormal,ns),2)\n",
    "    # store simulated moments in a dictionary\n",
    "    simMoments = Dict(:mu1 => simM[1], :mu2 => simM[2])\n",
    "\n",
    "    # Calculate the weighted distance between empirical moments\n",
    "    # and simulated ones:\n",
    "    #-----------------------------------------------------------\n",
    "    v = Dict{Symbol,Float64}()\n",
    "    for (k, mom) in dataMomentd(ev)\n",
    "        # If weight for moment k exists:\n",
    "        #-------------------------------\n",
    "        if haskey(SMM.dataMomentWd(ev), k)\n",
    "            # divide by weight associated to moment k:\n",
    "            #----------------------------------------\n",
    "            v[k] = ((simMoments[k] .- mom) ./ SMM.dataMomentW(ev,k)) .^2\n",
    "        else\n",
    "            v[k] = ((simMoments[k] .- mom) ) .^2\n",
    "        end\n",
    "    end\n",
    "\n",
    "    # Set value of the objective function:\n",
    "    #------------------------------------\n",
    "    setValue(ev, mean(collect(values(v))))\n",
    "\n",
    "    # also return the moments\n",
    "    #-----------------------\n",
    "    setMoment(ev, simMoments)\n",
    "\n",
    "    # flag for success:\n",
    "    #-------------------\n",
    "    ev.status = 1\n",
    "\n",
    "    # finish and return\n",
    "    finish(ev)\n",
    "\n",
    "    return ev\n",
    "end\n",
    "\n",
    "\n",
    "\n",
    "# Initialize an empty MProb() object:\n",
    "#------------------------------------\n",
    "mprob = MProb()\n",
    "\n",
    "# Add structural parameters to MProb():\n",
    "# specify starting values and support\n",
    "#--------------------------------------\n",
    "addSampledParam!(mprob,pb)\n",
    "\n",
    "# Add moments to be matched to MProb():\n",
    "#--------------------------------------\n",
    "addMoment!(mprob,moms)\n",
    "\n",
    "# Attach an objective function to MProb():\n",
    "#----------------------------------------\n",
    "addEvalFunc!(mprob, objfunc_normal)"
   ]
  },
  {
   "cell_type": "markdown",
   "metadata": {},
   "source": [
    "## Saving Options"
   ]
  },
  {
   "cell_type": "markdown",
   "metadata": {},
   "source": [
    "In order to save the optimization at every `n` steps, it is necessary to include the following items in the dictionary containing the optimization options:\n",
    "* \"save_frequency\": the optimization will be saved every ̀save_frequency steps\n",
    "* \"filename\": the name under which the optimization will be saved\n",
    "Independently to the value of `save_frequency`, The optimization will be saved to disk at the final iteration. If `filename` is not specified, a random name will be generated. "
   ]
  },
  {
   "cell_type": "code",
   "execution_count": 10,
   "metadata": {
    "scrolled": false
   },
   "outputs": [
    {
     "name": "stderr",
     "output_type": "stream",
     "text": [
      "11:34:43:INFO:Main:Starting estimation loop.\n",
      "11:34:48:INFO:Main:saved data at iteration 10\n",
      "11:34:52:INFO:Main:saved data at iteration 20\n",
      "11:34:57:INFO:Main:saved data at iteration 30\n",
      "11:35:01:INFO:Main:saved data at iteration 40\n",
      "11:35:06:INFO:Main:saved data at iteration 50\n",
      "11:35:06:INFO:Main:Done with estimation after 0.4 minutes\n"
     ]
    },
    {
     "data": {
      "text/html": [
       "<table class=\"data-frame\"><thead><tr><th></th><th>id</th><th>acc_rate</th><th>perc_exchanged</th><th>exchanged_most_with</th><th>best_val</th></tr></thead><tbody><tr><th>1</th><td>1</td><td>0.26</td><td>0.0</td><td>0</td><td>1.23645</td></tr><tr><th>2</th><td>2</td><td>0.0930233</td><td>14.0</td><td>3</td><td>0.695447</td></tr><tr><th>3</th><td>3</td><td>0.116279</td><td>14.0</td><td>2</td><td>0.695447</td></tr></tbody></table>"
      ],
      "text/plain": [
       "3×5 DataFrames.DataFrame\n",
       "│ Row │ id │ acc_rate  │ perc_exchanged │ exchanged_most_with │ best_val │\n",
       "├─────┼────┼───────────┼────────────────┼─────────────────────┼──────────┤\n",
       "│ 1   │ 1  │ 0.26      │ 0.0            │ 0                   │ 1.23645  │\n",
       "│ 2   │ 2  │ 0.0930233 │ 14.0           │ 3                   │ 0.695447 │\n",
       "│ 3   │ 3  │ 0.116279  │ 14.0           │ 2                   │ 0.695447 │"
      ]
     },
     "execution_count": 10,
     "metadata": {},
     "output_type": "execute_result"
    }
   ],
   "source": [
    "# estimation options:\n",
    "#--------------------\n",
    "# number of iterations for each chain\n",
    "niter = 50\n",
    "# number of chains\n",
    "nchains = 3\n",
    "\n",
    "opts = Dict(\"N\"=>nchains,\n",
    "        \"maxiter\"=>niter,\n",
    "        \"maxtemp\"=> 5,\n",
    "        \"coverage\"=>0.025,\n",
    "        \"sigma_update_steps\"=>10,\n",
    "        \"sigma_adjust_by\"=>0.01,\n",
    "        \"smpl_iters\"=>1000,\n",
    "        \"parallel\"=>true,\n",
    "        \"maxdists\"=>[0.05 for i in 1:nchains],\n",
    "        \"mixprob\"=>0.3,\n",
    "        \"acc_tuner\"=>12.0,\n",
    "        \"animate\"=>false,\n",
    "        \"save_frequency\"=>10,\n",
    "        \"filename\"=>\"MyMAProblem\")\n",
    "\n",
    "\n",
    "#---------------------------------------\n",
    "# Let's set-up and run the optimization\n",
    "#---------------------------------------\n",
    "# set-up BGP algorithm:\n",
    "MA = MAlgoBGP(mprob,opts)\n",
    "\n",
    "# run the estimation:\n",
    "@time SMM.run!(MA)\n",
    "\n",
    "# show a summary of the optimization:\n",
    "@show SMM.summary(MA)"
   ]
  },
  {
   "cell_type": "markdown",
   "metadata": {},
   "source": [
    "## Loading and restarting "
   ]
  },
  {
   "cell_type": "markdown",
   "metadata": {},
   "source": [
    "To load an optimization, use the function `readMalgo`"
   ]
  },
  {
   "cell_type": "code",
   "execution_count": 11,
   "metadata": {},
   "outputs": [
    {
     "data": {
      "text/html": [
       "<table class=\"data-frame\"><thead><tr><th></th><th>id</th><th>acc_rate</th><th>perc_exchanged</th><th>exchanged_most_with</th><th>best_val</th></tr></thead><tbody><tr><th>1</th><td>1</td><td>0.26</td><td>0.0</td><td>0</td><td>1.23645</td></tr><tr><th>2</th><td>2</td><td>0.0930233</td><td>14.0</td><td>3</td><td>0.695447</td></tr><tr><th>3</th><td>3</td><td>0.116279</td><td>14.0</td><td>2</td><td>0.695447</td></tr></tbody></table>"
      ],
      "text/plain": [
       "3×5 DataFrames.DataFrame\n",
       "│ Row │ id │ acc_rate  │ perc_exchanged │ exchanged_most_with │ best_val │\n",
       "├─────┼────┼───────────┼────────────────┼─────────────────────┼──────────┤\n",
       "│ 1   │ 1  │ 0.26      │ 0.0            │ 0                   │ 1.23645  │\n",
       "│ 2   │ 2  │ 0.0930233 │ 14.0           │ 3                   │ 0.695447 │\n",
       "│ 3   │ 3  │ 0.116279  │ 14.0           │ 2                   │ 0.695447 │"
      ]
     },
     "execution_count": 11,
     "metadata": {},
     "output_type": "execute_result"
    },
    {
     "name": "stdout",
     "output_type": "stream",
     "text": [
      " 23.280594 seconds (116.06 k allocations: 237.325 MiB, 93.87% gc time)\n",
      "SMM.summary(MA) = 3×5 DataFrames.DataFrame\n",
      "│ Row │ id │ acc_rate  │ perc_exchanged │ exchanged_most_with │ best_val │\n",
      "├─────┼────┼───────────┼────────────────┼─────────────────────┼──────────┤\n",
      "│ 1   │ 1  │ 0.26      │ 0.0            │ 0                   │ 1.23645  │\n",
      "│ 2   │ 2  │ 0.0930233 │ 14.0           │ 3                   │ 0.695447 │\n",
      "│ 3   │ 3  │ 0.116279  │ 14.0           │ 2                   │ 0.695447 │\n",
      "SMM.summary(MA2) = 3×5 DataFrames.DataFrame\n",
      "│ Row │ id │ acc_rate  │ perc_exchanged │ exchanged_most_with │ best_val │\n",
      "├─────┼────┼───────────┼────────────────┼─────────────────────┼──────────┤\n",
      "│ 1   │ 1  │ 0.26      │ 0.0            │ 0                   │ 1.23645  │\n",
      "│ 2   │ 2  │ 0.0930233 │ 14.0           │ 3                   │ 0.695447 │\n",
      "│ 3   │ 3  │ 0.116279  │ 14.0           │ 2                   │ 0.695447 │\n"
     ]
    }
   ],
   "source": [
    "MA2 = readMalgo(opts[\"filename\"])\n",
    "@show SMM.summary(MA2)"
   ]
  },
  {
   "cell_type": "markdown",
   "metadata": {},
   "source": [
    "To restart the optimization, simply use the function `restart!`"
   ]
  },
  {
   "cell_type": "code",
   "execution_count": 12,
   "metadata": {},
   "outputs": [
    {
     "name": "stderr",
     "output_type": "stream",
     "text": [
      "11:35:33:INFO:Main:Restarting estimation loop with 50 iterations.\n",
      "11:35:33:INFO:Main:Current best value on chain 1 before restarting 1.23644627881224\n",
      "11:35:33:INFO:Main:saved data at iteration 50\n",
      "11:35:38:INFO:Main:saved data at iteration 60\n",
      "11:35:42:INFO:Main:saved data at iteration 70\n",
      "11:35:47:INFO:Main:saved data at iteration 80\n",
      "11:35:52:INFO:Main:saved data at iteration 90\n",
      "11:35:57:INFO:Main:saved data at iteration 100\n",
      "11:35:57:INFO:Main:Done with estimation after 0.4 minutes\n",
      "11:35:57:INFO:Main:New best value on chain 1 = 1.23644627881224\n"
     ]
    },
    {
     "data": {
      "text/html": [
       "<table class=\"data-frame\"><thead><tr><th></th><th>id</th><th>acc_rate</th><th>perc_exchanged</th><th>exchanged_most_with</th><th>best_val</th></tr></thead><tbody><tr><th>1</th><td>1</td><td>0.16</td><td>0.0</td><td>0</td><td>1.23645</td></tr><tr><th>2</th><td>2</td><td>0.0537634</td><td>7.0</td><td>3</td><td>0.695447</td></tr><tr><th>3</th><td>3</td><td>0.0537634</td><td>7.0</td><td>2</td><td>0.695447</td></tr></tbody></table>"
      ],
      "text/plain": [
       "3×5 DataFrames.DataFrame\n",
       "│ Row │ id │ acc_rate  │ perc_exchanged │ exchanged_most_with │ best_val │\n",
       "├─────┼────┼───────────┼────────────────┼─────────────────────┼──────────┤\n",
       "│ 1   │ 1  │ 0.16      │ 0.0            │ 0                   │ 1.23645  │\n",
       "│ 2   │ 2  │ 0.0537634 │ 7.0            │ 3                   │ 0.695447 │\n",
       "│ 3   │ 3  │ 0.0537634 │ 7.0            │ 2                   │ 0.695447 │"
      ]
     },
     "execution_count": 12,
     "metadata": {},
     "output_type": "execute_result"
    },
    {
     "name": "stdout",
     "output_type": "stream",
     "text": [
      "SMM.summary(MA2) = 3×5 DataFrames.DataFrame\n",
      "│ Row │ id │ acc_rate  │ perc_exchanged │ exchanged_most_with │ best_val │\n",
      "├─────┼────┼───────────┼────────────────┼─────────────────────┼──────────┤\n",
      "│ 1   │ 1  │ 0.16      │ 0.0            │ 0                   │ 1.23645  │\n",
      "│ 2   │ 2  │ 0.0537634 │ 7.0            │ 3                   │ 0.695447 │\n",
      "│ 3   │ 3  │ 0.0537634 │ 7.0            │ 2                   │ 0.695447 │\n"
     ]
    }
   ],
   "source": [
    "# re-start the estimation adding newiters steps\n",
    "#----------------------------------------------\n",
    "newiters = 50\n",
    "# re-set seed to keep randomness constant\n",
    "# otherwise results are not comparable\n",
    "srand(1234)\n",
    "restart!(MA2, newiters)\n",
    "\n",
    "# show a summary of the optimization:\n",
    "@show SMM.summary(MA2)"
   ]
  },
  {
   "cell_type": "code",
   "execution_count": 13,
   "metadata": {},
   "outputs": [
    {
     "name": "stderr",
     "output_type": "stream",
     "text": [
      "11:36:20:INFO:Main:Restarting estimation loop with 50 iterations.\n",
      "11:36:20:INFO:Main:Current best value on chain 1 before restarting 1.23644627881224\n",
      "11:36:20:INFO:Main:saved data at iteration 50\n",
      "11:36:26:INFO:Main:saved data at iteration 60\n",
      "11:36:31:INFO:Main:saved data at iteration 70\n",
      "11:36:35:INFO:Main:saved data at iteration 80\n",
      "11:36:40:INFO:Main:saved data at iteration 90\n",
      "11:36:44:INFO:Main:saved data at iteration 100\n",
      "11:36:45:INFO:Main:Done with estimation after 0.4 minutes\n",
      "11:36:45:INFO:Main:New best value on chain 1 = 1.23644627881224\n"
     ]
    },
    {
     "data": {
      "text/html": [
       "<table class=\"data-frame\"><thead><tr><th></th><th>id</th><th>acc_rate</th><th>perc_exchanged</th><th>exchanged_most_with</th><th>best_val</th></tr></thead><tbody><tr><th>1</th><td>1</td><td>0.16</td><td>0.0</td><td>0</td><td>1.23645</td></tr><tr><th>2</th><td>2</td><td>0.0537634</td><td>7.0</td><td>3</td><td>0.695447</td></tr><tr><th>3</th><td>3</td><td>0.0537634</td><td>7.0</td><td>2</td><td>0.695447</td></tr></tbody></table>"
      ],
      "text/plain": [
       "3×5 DataFrames.DataFrame\n",
       "│ Row │ id │ acc_rate  │ perc_exchanged │ exchanged_most_with │ best_val │\n",
       "├─────┼────┼───────────┼────────────────┼─────────────────────┼──────────┤\n",
       "│ 1   │ 1  │ 0.16      │ 0.0            │ 0                   │ 1.23645  │\n",
       "│ 2   │ 2  │ 0.0537634 │ 7.0            │ 3                   │ 0.695447 │\n",
       "│ 3   │ 3  │ 0.0537634 │ 7.0            │ 2                   │ 0.695447 │"
      ]
     },
     "execution_count": 13,
     "metadata": {},
     "output_type": "execute_result"
    }
   ],
   "source": [
    "# re-start the estimation with MA\n",
    "#---------------------------------\n",
    "newiters = 50\n",
    "srand(1234)\n",
    "restart!(MA, newiters)\n",
    "\n",
    "# show a summary of the optimization:\n",
    "@show SMM.summary(MA)"
   ]
  },
  {
   "cell_type": "code",
   "execution_count": 14,
   "metadata": {},
   "outputs": [
    {
     "name": "stderr",
     "output_type": "stream",
     "text": [
      "11:36:45:INFO:Main:Starting estimation loop.\n"
     ]
    },
    {
     "name": "stdout",
     "output_type": "stream",
     "text": [
      "SMM.summary(MA) = 3×5 DataFrames.DataFrame\n",
      "│ Row │ id │ acc_rate  │ perc_exchanged │ exchanged_most_with │ best_val │\n",
      "├─────┼────┼───────────┼────────────────┼─────────────────────┼──────────┤\n",
      "│ 1   │ 1  │ 0.16      │ 0.0            │ 0                   │ 1.23645  │\n",
      "│ 2   │ 2  │ 0.0537634 │ 7.0            │ 3                   │ 0.695447 │\n",
      "│ 3   │ 3  │ 0.0537634 │ 7.0            │ 2                   │ 0.695447 │\n"
     ]
    },
    {
     "name": "stderr",
     "output_type": "stream",
     "text": [
      "11:36:49:INFO:Main:saved data at iteration 10\n",
      "11:36:54:INFO:Main:saved data at iteration 20\n",
      "11:36:59:INFO:Main:saved data at iteration 30\n",
      "11:37:03:INFO:Main:saved data at iteration 40\n",
      "11:37:08:INFO:Main:saved data at iteration 50\n",
      "11:37:13:INFO:Main:saved data at iteration 60\n",
      "11:37:17:INFO:Main:saved data at iteration 70\n",
      "11:37:22:INFO:Main:saved data at iteration 80\n",
      "11:37:26:INFO:Main:saved data at iteration 90\n",
      "11:37:31:INFO:Main:saved data at iteration 100\n",
      "11:37:31:INFO:Main:Done with estimation after 0.8 minutes\n"
     ]
    },
    {
     "data": {
      "text/html": [
       "<table class=\"data-frame\"><thead><tr><th></th><th>id</th><th>acc_rate</th><th>perc_exchanged</th><th>exchanged_most_with</th><th>best_val</th></tr></thead><tbody><tr><th>1</th><td>1</td><td>0.16</td><td>0.0</td><td>0</td><td>1.23645</td></tr><tr><th>2</th><td>2</td><td>0.0618557</td><td>3.0</td><td>3</td><td>0.695447</td></tr><tr><th>3</th><td>3</td><td>0.0515464</td><td>3.0</td><td>2</td><td>0.702253</td></tr></tbody></table>"
      ],
      "text/plain": [
       "3×5 DataFrames.DataFrame\n",
       "│ Row │ id │ acc_rate  │ perc_exchanged │ exchanged_most_with │ best_val │\n",
       "├─────┼────┼───────────┼────────────────┼─────────────────────┼──────────┤\n",
       "│ 1   │ 1  │ 0.16      │ 0.0            │ 0                   │ 1.23645  │\n",
       "│ 2   │ 2  │ 0.0618557 │ 3.0            │ 3                   │ 0.695447 │\n",
       "│ 3   │ 3  │ 0.0515464 │ 3.0            │ 2                   │ 0.702253 │"
      ]
     },
     "execution_count": 14,
     "metadata": {},
     "output_type": "execute_result"
    },
    {
     "name": "stdout",
     "output_type": "stream",
     "text": [
      " 46.570475 seconds (252.23 k allocations: 475.540 MiB, 93.75% gc time)\n",
      "SMM.summary(MA3) = 3×5 DataFrames.DataFrame\n",
      "│ Row │ id │ acc_rate  │ perc_exchanged │ exchanged_most_with │ best_val │\n",
      "├─────┼────┼───────────┼────────────────┼─────────────────────┼──────────┤\n",
      "│ 1   │ 1  │ 0.16      │ 0.0            │ 0                   │ 1.23645  │\n",
      "│ 2   │ 2  │ 0.0618557 │ 3.0            │ 3                   │ 0.695447 │\n",
      "│ 3   │ 3  │ 0.0515464 │ 3.0            │ 2                   │ 0.702253 │\n"
     ]
    }
   ],
   "source": [
    "# New estimation, with (niter + newiters) iterations\n",
    "# without starting and restarting\n",
    "#---------------------------------------------------\n",
    "# set-up BGP algorithm:\n",
    "MA3 = MAlgoBGP(mprob,opts)\n",
    "\n",
    "# run the estimation:\n",
    "srand(1234)\n",
    "@time SMM.run!(MA3)\n",
    "\n",
    "# show a summary of the optimization:\n",
    "@show SMM.summary(MA3)"
   ]
  },
  {
   "cell_type": "markdown",
   "metadata": {},
   "source": [
    "## Comparing the results\n",
    "\n",
    "MA, MA2 and MA3 should give the same results (once we control for randomness).\n",
    "Let's compare the estimates we obtain from the first chain."
   ]
  },
  {
   "cell_type": "code",
   "execution_count": 19,
   "metadata": {
    "scrolled": true
   },
   "outputs": [
    {
     "name": "stdout",
     "output_type": "stream",
     "text": [
      "Algo = MA\n",
      "Quasi posterior mean for p1 = 0.6672440792426643\n",
      "Quasi posterior median for p1 = 0.6587775067143288\n",
      "Algo = MA\n",
      "Quasi posterior mean for p2 = -0.06854953042519724\n",
      "Quasi posterior median for p2 = -0.10794430374357472\n",
      "Algo = MA2\n",
      "Quasi posterior mean for p1 = 0.6672440792426643\n",
      "Quasi posterior median for p1 = 0.6587775067143288\n",
      "Algo = MA2\n",
      "Quasi posterior mean for p2 = -0.06854953042519724\n",
      "Quasi posterior median for p2 = -0.10794430374357472\n",
      "Algo = MA3\n",
      "Quasi posterior mean for p1 = 0.6761660814751674\n",
      "Quasi posterior median for p1 = 0.6587775067143288\n",
      "Algo = MA3\n",
      "Quasi posterior mean for p2 = -0.10727907757573654\n",
      "Quasi posterior median for p2 = -0.10794430374357472\n"
     ]
    }
   ],
   "source": [
    "for (algo, algoName) in zip([MA, MA2, MA3], [\"MA\", \"MA2\", \"MA3\"])\n",
    "    # Realization of the first chain:\n",
    "    #-------------------------------\n",
    "    dat_chain1 = SMM.history(algo.chains[1])\n",
    "\n",
    "    # discard the first 10th of the observations (\"burn-in\" phase):\n",
    "    #--------------------------------------------------------------\n",
    "    dat_chain1[round(Int, niter/10):niter, :]\n",
    "\n",
    "    # keep only accepted draws:\n",
    "    #--------------------------\n",
    "    dat_chain1 = dat_chain1[dat_chain1[:accepted ].== true, : ]\n",
    "\n",
    "    # create a list with the parameters to be estimated\n",
    "    parameters = [Symbol(String(\"mu$(i)\")) for i=1:2]\n",
    "    # list with the corresponding priors:\n",
    "    #------------------------------------\n",
    "    estimatedParameters = [Symbol(String(\"p$(i)\")) for i=1:2]\n",
    "\n",
    "\n",
    "    # Quasi Posterior mean and quasi posterior median for each parameter:\n",
    "    #-------------------------------------------------------------------\n",
    "    for (estimatedParameter, param) in zip(estimatedParameters, parameters)\n",
    "\n",
    "      println(\"Algo = $(algoName)\")\n",
    "      println(\"Quasi posterior mean for $(String(estimatedParameter)) = $(mean(dat_chain1[estimatedParameter]))\")\n",
    "      println(\"Quasi posterior median for $(String(estimatedParameter)) = $(median(dat_chain1[estimatedParameter]))\")\n",
    "\n",
    "    end\n",
    "end"
   ]
  },
  {
   "cell_type": "markdown",
   "metadata": {},
   "source": [
    "Estimates are the same, as expected."
   ]
  }
 ],
 "metadata": {
  "kernelspec": {
   "display_name": "Julia 0.6.3",
   "language": "julia",
   "name": "julia-0.6"
  },
  "language_info": {
   "file_extension": ".jl",
   "mimetype": "application/julia",
   "name": "julia",
   "version": "0.6.3"
  }
 },
 "nbformat": 4,
 "nbformat_minor": 2
}
